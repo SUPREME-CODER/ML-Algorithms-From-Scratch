{
 "cells": [
  {
   "cell_type": "markdown",
   "id": "a103bdb1",
   "metadata": {},
   "source": [
    "## Naive Bayes"
   ]
  },
  {
   "cell_type": "markdown",
   "id": "25368f13",
   "metadata": {},
   "source": [
    "$P(A|B) = \\large{\\frac{P(B|A) P(A)}{P(B)}}$\n",
    "<br><br>\n",
    "$Posterior = \\large{\\frac{\\text{Likelihood * } \\text{Prior}}{\\text{Marginal}}}$"
   ]
  },
  {
   "cell_type": "code",
   "execution_count": 5,
   "id": "00270b32",
   "metadata": {},
   "outputs": [],
   "source": [
    "import numpy as np\n",
    "import pandas as pd\n",
    "from math import sqrt\n",
    "from math import pi\n",
    "from math import exp"
   ]
  },
  {
   "cell_type": "markdown",
   "id": "8cc9fd7b",
   "metadata": {},
   "source": [
    "### Loading Data"
   ]
  },
  {
   "cell_type": "code",
   "execution_count": 43,
   "id": "69bc0e17",
   "metadata": {},
   "outputs": [],
   "source": [
    "data = pd.read_csv('data.csv')"
   ]
  },
  {
   "cell_type": "code",
   "execution_count": 44,
   "id": "9d51db21",
   "metadata": {},
   "outputs": [
    {
     "data": {
      "text/html": [
       "<div>\n",
       "<style scoped>\n",
       "    .dataframe tbody tr th:only-of-type {\n",
       "        vertical-align: middle;\n",
       "    }\n",
       "\n",
       "    .dataframe tbody tr th {\n",
       "        vertical-align: top;\n",
       "    }\n",
       "\n",
       "    .dataframe thead th {\n",
       "        text-align: right;\n",
       "    }\n",
       "</style>\n",
       "<table border=\"1\" class=\"dataframe\">\n",
       "  <thead>\n",
       "    <tr style=\"text-align: right;\">\n",
       "      <th></th>\n",
       "      <th>SepalLengthCm</th>\n",
       "      <th>SepalWidthCm</th>\n",
       "      <th>PetalLengthCm</th>\n",
       "      <th>PetalWidthCm</th>\n",
       "      <th>Species</th>\n",
       "    </tr>\n",
       "  </thead>\n",
       "  <tbody>\n",
       "    <tr>\n",
       "      <th>0</th>\n",
       "      <td>5.1</td>\n",
       "      <td>3.5</td>\n",
       "      <td>1.4</td>\n",
       "      <td>0.2</td>\n",
       "      <td>Iris-setosa</td>\n",
       "    </tr>\n",
       "    <tr>\n",
       "      <th>1</th>\n",
       "      <td>4.9</td>\n",
       "      <td>3.0</td>\n",
       "      <td>1.4</td>\n",
       "      <td>0.2</td>\n",
       "      <td>Iris-setosa</td>\n",
       "    </tr>\n",
       "    <tr>\n",
       "      <th>2</th>\n",
       "      <td>4.7</td>\n",
       "      <td>3.2</td>\n",
       "      <td>1.3</td>\n",
       "      <td>0.2</td>\n",
       "      <td>Iris-setosa</td>\n",
       "    </tr>\n",
       "    <tr>\n",
       "      <th>3</th>\n",
       "      <td>4.6</td>\n",
       "      <td>3.1</td>\n",
       "      <td>1.5</td>\n",
       "      <td>0.2</td>\n",
       "      <td>Iris-setosa</td>\n",
       "    </tr>\n",
       "    <tr>\n",
       "      <th>4</th>\n",
       "      <td>5.0</td>\n",
       "      <td>3.6</td>\n",
       "      <td>1.4</td>\n",
       "      <td>0.2</td>\n",
       "      <td>Iris-setosa</td>\n",
       "    </tr>\n",
       "  </tbody>\n",
       "</table>\n",
       "</div>"
      ],
      "text/plain": [
       "   SepalLengthCm  SepalWidthCm  PetalLengthCm  PetalWidthCm      Species\n",
       "0            5.1           3.5            1.4           0.2  Iris-setosa\n",
       "1            4.9           3.0            1.4           0.2  Iris-setosa\n",
       "2            4.7           3.2            1.3           0.2  Iris-setosa\n",
       "3            4.6           3.1            1.5           0.2  Iris-setosa\n",
       "4            5.0           3.6            1.4           0.2  Iris-setosa"
      ]
     },
     "execution_count": 44,
     "metadata": {},
     "output_type": "execute_result"
    }
   ],
   "source": [
    "data.head()"
   ]
  },
  {
   "cell_type": "code",
   "execution_count": 4,
   "id": "f727dfe6",
   "metadata": {},
   "outputs": [
    {
     "data": {
      "text/plain": [
       "SepalLengthCm    float64\n",
       "SepalWidthCm     float64\n",
       "PetalLengthCm    float64\n",
       "PetalWidthCm     float64\n",
       "Species           object\n",
       "dtype: object"
      ]
     },
     "execution_count": 4,
     "metadata": {},
     "output_type": "execute_result"
    }
   ],
   "source": [
    "data.dtypes"
   ]
  },
  {
   "cell_type": "code",
   "execution_count": 6,
   "id": "21be014f",
   "metadata": {},
   "outputs": [
    {
     "data": {
      "text/html": [
       "<div>\n",
       "<style scoped>\n",
       "    .dataframe tbody tr th:only-of-type {\n",
       "        vertical-align: middle;\n",
       "    }\n",
       "\n",
       "    .dataframe tbody tr th {\n",
       "        vertical-align: top;\n",
       "    }\n",
       "\n",
       "    .dataframe thead th {\n",
       "        text-align: right;\n",
       "    }\n",
       "</style>\n",
       "<table border=\"1\" class=\"dataframe\">\n",
       "  <thead>\n",
       "    <tr style=\"text-align: right;\">\n",
       "      <th></th>\n",
       "      <th>SepalLengthCm</th>\n",
       "      <th>SepalWidthCm</th>\n",
       "      <th>PetalLengthCm</th>\n",
       "      <th>PetalWidthCm</th>\n",
       "    </tr>\n",
       "  </thead>\n",
       "  <tbody>\n",
       "    <tr>\n",
       "      <th>count</th>\n",
       "      <td>150.000000</td>\n",
       "      <td>150.000000</td>\n",
       "      <td>150.000000</td>\n",
       "      <td>150.000000</td>\n",
       "    </tr>\n",
       "    <tr>\n",
       "      <th>mean</th>\n",
       "      <td>5.843333</td>\n",
       "      <td>3.054000</td>\n",
       "      <td>3.758667</td>\n",
       "      <td>1.198667</td>\n",
       "    </tr>\n",
       "    <tr>\n",
       "      <th>std</th>\n",
       "      <td>0.828066</td>\n",
       "      <td>0.433594</td>\n",
       "      <td>1.764420</td>\n",
       "      <td>0.763161</td>\n",
       "    </tr>\n",
       "    <tr>\n",
       "      <th>min</th>\n",
       "      <td>4.300000</td>\n",
       "      <td>2.000000</td>\n",
       "      <td>1.000000</td>\n",
       "      <td>0.100000</td>\n",
       "    </tr>\n",
       "    <tr>\n",
       "      <th>25%</th>\n",
       "      <td>5.100000</td>\n",
       "      <td>2.800000</td>\n",
       "      <td>1.600000</td>\n",
       "      <td>0.300000</td>\n",
       "    </tr>\n",
       "    <tr>\n",
       "      <th>50%</th>\n",
       "      <td>5.800000</td>\n",
       "      <td>3.000000</td>\n",
       "      <td>4.350000</td>\n",
       "      <td>1.300000</td>\n",
       "    </tr>\n",
       "    <tr>\n",
       "      <th>75%</th>\n",
       "      <td>6.400000</td>\n",
       "      <td>3.300000</td>\n",
       "      <td>5.100000</td>\n",
       "      <td>1.800000</td>\n",
       "    </tr>\n",
       "    <tr>\n",
       "      <th>max</th>\n",
       "      <td>7.900000</td>\n",
       "      <td>4.400000</td>\n",
       "      <td>6.900000</td>\n",
       "      <td>2.500000</td>\n",
       "    </tr>\n",
       "  </tbody>\n",
       "</table>\n",
       "</div>"
      ],
      "text/plain": [
       "       SepalLengthCm  SepalWidthCm  PetalLengthCm  PetalWidthCm\n",
       "count     150.000000    150.000000     150.000000    150.000000\n",
       "mean        5.843333      3.054000       3.758667      1.198667\n",
       "std         0.828066      0.433594       1.764420      0.763161\n",
       "min         4.300000      2.000000       1.000000      0.100000\n",
       "25%         5.100000      2.800000       1.600000      0.300000\n",
       "50%         5.800000      3.000000       4.350000      1.300000\n",
       "75%         6.400000      3.300000       5.100000      1.800000\n",
       "max         7.900000      4.400000       6.900000      2.500000"
      ]
     },
     "execution_count": 6,
     "metadata": {},
     "output_type": "execute_result"
    }
   ],
   "source": [
    "data.describe()"
   ]
  },
  {
   "cell_type": "markdown",
   "id": "4a4cb67f",
   "metadata": {},
   "source": [
    "### Gaussian Probability\n",
    "One assumption of Naive Bayes is that the data for each class follows Gaussian Distribution."
   ]
  },
  {
   "cell_type": "code",
   "execution_count": 14,
   "id": "8c944641",
   "metadata": {},
   "outputs": [],
   "source": [
    "def calc_gaussian_prob(x, mean, std):\n",
    "    return (1 / (sqrt(2 * pi) * std)) * (exp(-((x-mean)**2 / (2 * std**2 ))))"
   ]
  },
  {
   "cell_type": "markdown",
   "id": "4c181ff4",
   "metadata": {},
   "source": [
    "### Calculating probabilities for all the classes"
   ]
  },
  {
   "cell_type": "code",
   "execution_count": 15,
   "id": "c677d42a",
   "metadata": {},
   "outputs": [],
   "source": [
    "def calc_class_probs(summary_by_class, data):\n",
    "    total_rows = 150\n",
    "    probabilities = {}\n",
    "    for species, colStats in summary_by_class.items():\n",
    "        probabilities[species] = summary_by_class[species][0][2] / total_rows\n",
    "        for i, col in enumerate(colStats):\n",
    "            mean, std, classRows = col\n",
    "            probabilities[species] *= calc_gaussian_prob(data[i], mean, std)\n",
    "    \n",
    "    return probabilities"
   ]
  },
  {
   "cell_type": "markdown",
   "id": "4094f2ec",
   "metadata": {},
   "source": [
    "### Train Test Split"
   ]
  },
  {
   "cell_type": "code",
   "execution_count": 45,
   "id": "f590c7c9",
   "metadata": {},
   "outputs": [],
   "source": [
    "def train_test_data(data):\n",
    "    test_data = pd.DataFrame()\n",
    "    for species in data[\"Species\"].unique():\n",
    "        tempData = data[data[\"Species\"] == species].sample(n=10)\n",
    "        test_data = pd.concat([test_data, tempData], axis=0)\n",
    "    \n",
    "    return data.drop(test_data.index), test_data"
   ]
  },
  {
   "cell_type": "markdown",
   "id": "2bb1fcda",
   "metadata": {},
   "source": [
    "### Training on the data"
   ]
  },
  {
   "cell_type": "code",
   "execution_count": 9,
   "id": "cfa559fc",
   "metadata": {},
   "outputs": [],
   "source": [
    "def train(data):\n",
    "\n",
    "    summary_by_class = {}\n",
    "    for label in data['Species'].unique():\n",
    "        label_data = data[data['Species'] == label]\n",
    "        summary_by_class[label] = [(np.mean(label_data[column]), np.std(label_data[column]), len(label_data[column])) for column in label_data.columns[:-1]]\n",
    "\n",
    "\n",
    "    for species, stats in summary_by_class.items():\n",
    "        print(species)\n",
    "        for stat in stats:\n",
    "            print(stat)\n",
    "        print()\n",
    "    \n",
    "    return summary_by_class\n",
    "    \n"
   ]
  },
  {
   "cell_type": "markdown",
   "id": "d2e2802c",
   "metadata": {},
   "source": [
    "### Prediction"
   ]
  },
  {
   "cell_type": "code",
   "execution_count": 56,
   "id": "a405fc0b",
   "metadata": {},
   "outputs": [],
   "source": [
    "def predict(summary_by_class, newData, verbose=True):\n",
    "    probabilities = calc_class_probs(summary_by_class, newData)\n",
    "    \n",
    "    total = sum(probabilities.values())\n",
    "    maxprob = 0\n",
    "    resultSpecies = \"\"\n",
    "    \n",
    "    for species, prob in probabilities.items():\n",
    "        if verbose:\n",
    "            print(species, \":- \", prob/total)\n",
    "        if maxprob < prob/total:\n",
    "            maxprob = prob/total\n",
    "            resultSpecies = species\n",
    "    \n",
    "    if verbose:\n",
    "        print(\"\\nPrediction:- \", resultSpecies)\n",
    "        print(\"Probability:- \", maxprob)\n",
    "    \n",
    "    return resultSpecies, maxprob"
   ]
  },
  {
   "cell_type": "markdown",
   "id": "7185a78f",
   "metadata": {},
   "source": [
    "### Testing the model"
   ]
  },
  {
   "cell_type": "code",
   "execution_count": 63,
   "id": "00a361a7",
   "metadata": {},
   "outputs": [],
   "source": [
    "def test(summary_by_class, testData, testResults, verbose=False):\n",
    "    predictedClass = []\n",
    "    predictedProb = []\n",
    "    accuracy = 0\n",
    "    \n",
    "    for data in testData:\n",
    "        resultSpecies, resultProb = predict(summary_by_class, data, verbose)\n",
    "        predictedClass.append(resultSpecies)\n",
    "        predictedProb.append(resultProb)\n",
    "    \n",
    "    for i in range(len(predictedClass)):\n",
    "        if predictedClass[i] == testResults[i]:\n",
    "            accuracy += 1\n",
    "    \n",
    "    print('Accuracy:- ', (accuracy/len(testResults))*100)\n",
    "    return predictedClass, predictedProb"
   ]
  },
  {
   "cell_type": "code",
   "execution_count": 13,
   "id": "ca61fa76",
   "metadata": {},
   "outputs": [
    {
     "name": "stdout",
     "output_type": "stream",
     "text": [
      "Iris-setosa\n",
      "(5.006, 0.3489469873777391, 50)\n",
      "(3.418, 0.37719490982779713, 50)\n",
      "(1.464, 0.17176728442867112, 50)\n",
      "(0.244, 0.10613199329137281, 50)\n",
      "\n",
      "Iris-versicolor\n",
      "(5.936, 0.5109833656783751, 50)\n",
      "(2.7700000000000005, 0.31064449134018135, 50)\n",
      "(4.26, 0.4651881339845203, 50)\n",
      "(1.3259999999999998, 0.19576516544063705, 50)\n",
      "\n",
      "Iris-virginica\n",
      "(6.587999999999998, 0.6294886813914926, 50)\n",
      "(2.974, 0.3192553836664309, 50)\n",
      "(5.5520000000000005, 0.546347874526844, 50)\n",
      "(2.0260000000000002, 0.2718896835115301, 50)\n",
      "\n"
     ]
    }
   ],
   "source": [
    "summary_by_class = train(data)"
   ]
  },
  {
   "cell_type": "code",
   "execution_count": 46,
   "id": "326df1b7",
   "metadata": {},
   "outputs": [],
   "source": [
    "train_data, test_data = train_test_data(data)"
   ]
  },
  {
   "cell_type": "code",
   "execution_count": 50,
   "id": "106b8170",
   "metadata": {},
   "outputs": [
    {
     "data": {
      "text/html": [
       "<div>\n",
       "<style scoped>\n",
       "    .dataframe tbody tr th:only-of-type {\n",
       "        vertical-align: middle;\n",
       "    }\n",
       "\n",
       "    .dataframe tbody tr th {\n",
       "        vertical-align: top;\n",
       "    }\n",
       "\n",
       "    .dataframe thead th {\n",
       "        text-align: right;\n",
       "    }\n",
       "</style>\n",
       "<table border=\"1\" class=\"dataframe\">\n",
       "  <thead>\n",
       "    <tr style=\"text-align: right;\">\n",
       "      <th></th>\n",
       "      <th>SepalLengthCm</th>\n",
       "      <th>SepalWidthCm</th>\n",
       "      <th>PetalLengthCm</th>\n",
       "      <th>PetalWidthCm</th>\n",
       "      <th>Species</th>\n",
       "    </tr>\n",
       "  </thead>\n",
       "  <tbody>\n",
       "    <tr>\n",
       "      <th>0</th>\n",
       "      <td>5.1</td>\n",
       "      <td>3.5</td>\n",
       "      <td>1.4</td>\n",
       "      <td>0.2</td>\n",
       "      <td>Iris-setosa</td>\n",
       "    </tr>\n",
       "    <tr>\n",
       "      <th>1</th>\n",
       "      <td>4.9</td>\n",
       "      <td>3.0</td>\n",
       "      <td>1.4</td>\n",
       "      <td>0.2</td>\n",
       "      <td>Iris-setosa</td>\n",
       "    </tr>\n",
       "    <tr>\n",
       "      <th>2</th>\n",
       "      <td>4.7</td>\n",
       "      <td>3.2</td>\n",
       "      <td>1.3</td>\n",
       "      <td>0.2</td>\n",
       "      <td>Iris-setosa</td>\n",
       "    </tr>\n",
       "    <tr>\n",
       "      <th>3</th>\n",
       "      <td>4.6</td>\n",
       "      <td>3.1</td>\n",
       "      <td>1.5</td>\n",
       "      <td>0.2</td>\n",
       "      <td>Iris-setosa</td>\n",
       "    </tr>\n",
       "    <tr>\n",
       "      <th>4</th>\n",
       "      <td>5.0</td>\n",
       "      <td>3.6</td>\n",
       "      <td>1.4</td>\n",
       "      <td>0.2</td>\n",
       "      <td>Iris-setosa</td>\n",
       "    </tr>\n",
       "  </tbody>\n",
       "</table>\n",
       "</div>"
      ],
      "text/plain": [
       "   SepalLengthCm  SepalWidthCm  PetalLengthCm  PetalWidthCm      Species\n",
       "0            5.1           3.5            1.4           0.2  Iris-setosa\n",
       "1            4.9           3.0            1.4           0.2  Iris-setosa\n",
       "2            4.7           3.2            1.3           0.2  Iris-setosa\n",
       "3            4.6           3.1            1.5           0.2  Iris-setosa\n",
       "4            5.0           3.6            1.4           0.2  Iris-setosa"
      ]
     },
     "execution_count": 50,
     "metadata": {},
     "output_type": "execute_result"
    }
   ],
   "source": [
    "train_data.head()"
   ]
  },
  {
   "cell_type": "code",
   "execution_count": 48,
   "id": "9cb4c6ba",
   "metadata": {},
   "outputs": [
    {
     "data": {
      "text/html": [
       "<div>\n",
       "<style scoped>\n",
       "    .dataframe tbody tr th:only-of-type {\n",
       "        vertical-align: middle;\n",
       "    }\n",
       "\n",
       "    .dataframe tbody tr th {\n",
       "        vertical-align: top;\n",
       "    }\n",
       "\n",
       "    .dataframe thead th {\n",
       "        text-align: right;\n",
       "    }\n",
       "</style>\n",
       "<table border=\"1\" class=\"dataframe\">\n",
       "  <thead>\n",
       "    <tr style=\"text-align: right;\">\n",
       "      <th></th>\n",
       "      <th>SepalLengthCm</th>\n",
       "      <th>SepalWidthCm</th>\n",
       "      <th>PetalLengthCm</th>\n",
       "      <th>PetalWidthCm</th>\n",
       "      <th>Species</th>\n",
       "    </tr>\n",
       "  </thead>\n",
       "  <tbody>\n",
       "    <tr>\n",
       "      <th>18</th>\n",
       "      <td>5.7</td>\n",
       "      <td>3.8</td>\n",
       "      <td>1.7</td>\n",
       "      <td>0.3</td>\n",
       "      <td>Iris-setosa</td>\n",
       "    </tr>\n",
       "    <tr>\n",
       "      <th>44</th>\n",
       "      <td>5.1</td>\n",
       "      <td>3.8</td>\n",
       "      <td>1.9</td>\n",
       "      <td>0.4</td>\n",
       "      <td>Iris-setosa</td>\n",
       "    </tr>\n",
       "    <tr>\n",
       "      <th>49</th>\n",
       "      <td>5.0</td>\n",
       "      <td>3.3</td>\n",
       "      <td>1.4</td>\n",
       "      <td>0.2</td>\n",
       "      <td>Iris-setosa</td>\n",
       "    </tr>\n",
       "    <tr>\n",
       "      <th>32</th>\n",
       "      <td>5.2</td>\n",
       "      <td>4.1</td>\n",
       "      <td>1.5</td>\n",
       "      <td>0.1</td>\n",
       "      <td>Iris-setosa</td>\n",
       "    </tr>\n",
       "    <tr>\n",
       "      <th>20</th>\n",
       "      <td>5.4</td>\n",
       "      <td>3.4</td>\n",
       "      <td>1.7</td>\n",
       "      <td>0.2</td>\n",
       "      <td>Iris-setosa</td>\n",
       "    </tr>\n",
       "  </tbody>\n",
       "</table>\n",
       "</div>"
      ],
      "text/plain": [
       "    SepalLengthCm  SepalWidthCm  PetalLengthCm  PetalWidthCm      Species\n",
       "18            5.7           3.8            1.7           0.3  Iris-setosa\n",
       "44            5.1           3.8            1.9           0.4  Iris-setosa\n",
       "49            5.0           3.3            1.4           0.2  Iris-setosa\n",
       "32            5.2           4.1            1.5           0.1  Iris-setosa\n",
       "20            5.4           3.4            1.7           0.2  Iris-setosa"
      ]
     },
     "execution_count": 48,
     "metadata": {},
     "output_type": "execute_result"
    }
   ],
   "source": [
    "test_data.head()"
   ]
  },
  {
   "cell_type": "code",
   "execution_count": 51,
   "id": "c5d8ae76",
   "metadata": {},
   "outputs": [
    {
     "name": "stdout",
     "output_type": "stream",
     "text": [
      "Iris-setosa\n",
      "(4.9799999999999995, 0.34655446902326914, 40)\n",
      "(3.3950000000000005, 0.381411850890871, 40)\n",
      "(1.4425000000000001, 0.16566155257029314, 40)\n",
      "(0.22999999999999998, 0.09273618495495704, 40)\n",
      "\n",
      "Iris-versicolor\n",
      "(5.8575, 0.4898405352765326, 40)\n",
      "(2.7449999999999997, 0.30244834269673226, 40)\n",
      "(4.2475, 0.47169243156955576, 40)\n",
      "(1.33, 0.198997487421324, 40)\n",
      "\n",
      "Iris-virginica\n",
      "(6.4925000000000015, 0.5917717042914438, 40)\n",
      "(2.935, 0.27345017827750634, 40)\n",
      "(5.4925, 0.4981904756215238, 40)\n",
      "(2.0225, 0.27247706325487286, 40)\n",
      "\n"
     ]
    }
   ],
   "source": [
    "summary_by_class = train(train_data)"
   ]
  },
  {
   "cell_type": "code",
   "execution_count": 64,
   "id": "5f7c757e",
   "metadata": {},
   "outputs": [
    {
     "name": "stdout",
     "output_type": "stream",
     "text": [
      "Accuracy:-  93.33333333333333\n"
     ]
    }
   ],
   "source": [
    "testData = test_data[[\"SepalLengthCm\", \"SepalWidthCm\", \"PetalLengthCm\", \"PetalWidthCm\"]]\n",
    "testResults = test_data[\"Species\"]\n",
    "predictedClass, predictedProb = test(summary_by_class, testData.values, testResults.values)"
   ]
  }
 ],
 "metadata": {
  "kernelspec": {
   "display_name": "Python 3 (ipykernel)",
   "language": "python",
   "name": "python3"
  },
  "language_info": {
   "codemirror_mode": {
    "name": "ipython",
    "version": 3
   },
   "file_extension": ".py",
   "mimetype": "text/x-python",
   "name": "python",
   "nbconvert_exporter": "python",
   "pygments_lexer": "ipython3",
   "version": "3.10.4"
  }
 },
 "nbformat": 4,
 "nbformat_minor": 5
}
