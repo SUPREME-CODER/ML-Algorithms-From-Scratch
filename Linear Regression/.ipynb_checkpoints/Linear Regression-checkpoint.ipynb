{
 "cells": [
  {
   "cell_type": "markdown",
   "id": "632ff7cb",
   "metadata": {},
   "source": [
    "## What is Linear Regression??\n",
    "Linear regression is a supervised machine learning method which is used for predictive analysis.<br>\n",
    "Regression estimates are used to describe data and to explain the relationship."
   ]
  },
  {
   "cell_type": "code",
   "execution_count": 62,
   "id": "fd06a3a2",
   "metadata": {},
   "outputs": [],
   "source": [
    "import pandas as pd\n",
    "import numpy as np\n",
    "import matplotlib.pyplot as mp"
   ]
  },
  {
   "cell_type": "markdown",
   "id": "fd420d20",
   "metadata": {},
   "source": [
    "### Reading the csv file"
   ]
  },
  {
   "cell_type": "code",
   "execution_count": 2,
   "id": "be560c2f",
   "metadata": {},
   "outputs": [],
   "source": [
    "def load_file(filePath):\n",
    "    data = pd.read_csv(filePath)\n",
    "    return data"
   ]
  },
  {
   "cell_type": "code",
   "execution_count": 3,
   "id": "53ecae16",
   "metadata": {},
   "outputs": [
    {
     "data": {
      "text/html": [
       "<div>\n",
       "<style scoped>\n",
       "    .dataframe tbody tr th:only-of-type {\n",
       "        vertical-align: middle;\n",
       "    }\n",
       "\n",
       "    .dataframe tbody tr th {\n",
       "        vertical-align: top;\n",
       "    }\n",
       "\n",
       "    .dataframe thead th {\n",
       "        text-align: right;\n",
       "    }\n",
       "</style>\n",
       "<table border=\"1\" class=\"dataframe\">\n",
       "  <thead>\n",
       "    <tr style=\"text-align: right;\">\n",
       "      <th></th>\n",
       "      <th>house_size</th>\n",
       "      <th>num_bedrooms</th>\n",
       "      <th>price</th>\n",
       "    </tr>\n",
       "  </thead>\n",
       "  <tbody>\n",
       "    <tr>\n",
       "      <th>0</th>\n",
       "      <td>2104</td>\n",
       "      <td>3</td>\n",
       "      <td>399900</td>\n",
       "    </tr>\n",
       "    <tr>\n",
       "      <th>1</th>\n",
       "      <td>1600</td>\n",
       "      <td>3</td>\n",
       "      <td>329900</td>\n",
       "    </tr>\n",
       "    <tr>\n",
       "      <th>2</th>\n",
       "      <td>2400</td>\n",
       "      <td>3</td>\n",
       "      <td>369000</td>\n",
       "    </tr>\n",
       "    <tr>\n",
       "      <th>3</th>\n",
       "      <td>1416</td>\n",
       "      <td>2</td>\n",
       "      <td>232000</td>\n",
       "    </tr>\n",
       "    <tr>\n",
       "      <th>4</th>\n",
       "      <td>3000</td>\n",
       "      <td>4</td>\n",
       "      <td>539900</td>\n",
       "    </tr>\n",
       "  </tbody>\n",
       "</table>\n",
       "</div>"
      ],
      "text/plain": [
       "   house_size  num_bedrooms   price\n",
       "0        2104             3  399900\n",
       "1        1600             3  329900\n",
       "2        2400             3  369000\n",
       "3        1416             2  232000\n",
       "4        3000             4  539900"
      ]
     },
     "execution_count": 3,
     "metadata": {},
     "output_type": "execute_result"
    }
   ],
   "source": [
    "houseData = load_file(\"D:\\Projects\\Machine Learning\\ML Algorithms From Scratch\\house_prices.csv\")\n",
    "houseData.head()"
   ]
  },
  {
   "cell_type": "markdown",
   "id": "fb239124",
   "metadata": {},
   "source": [
    "### Normalizing\n",
    "The data needs to be normalized since there is huge difference between in the magnitudes of the columns (predictive features).\n",
    "\n",
    "Not normalizing the data might cause some bias in the model towards the features and end up assigning them inappropriate weights for prediction analysis."
   ]
  },
  {
   "cell_type": "code",
   "execution_count": 10,
   "id": "191ca8e2",
   "metadata": {},
   "outputs": [],
   "source": [
    "mu = []\n",
    "std = []"
   ]
  },
  {
   "cell_type": "code",
   "execution_count": 14,
   "id": "af9d11ce",
   "metadata": {},
   "outputs": [],
   "source": [
    "def normalize_data(data):\n",
    "    numcols = data.shape[1]\n",
    "    for col in range(0,numcols-1):\n",
    "        data.iloc[:,col] = ((data.iloc[:,col] - np.mean(data.iloc[:,col]))/np.std(data.iloc[:, col]))\n",
    "        # pandas has the feature that when you perform\n",
    "        # an arithmetic operation on a column that operation is performed for each value of the column.\n",
    "        mu.append(np.mean(data.iloc[:,col]))\n",
    "        std.append(np.std(data.iloc[:, col]))     "
   ]
  },
  {
   "cell_type": "code",
   "execution_count": 5,
   "id": "e3149588",
   "metadata": {
    "scrolled": true
   },
   "outputs": [
    {
     "data": {
      "text/html": [
       "<div>\n",
       "<style scoped>\n",
       "    .dataframe tbody tr th:only-of-type {\n",
       "        vertical-align: middle;\n",
       "    }\n",
       "\n",
       "    .dataframe tbody tr th {\n",
       "        vertical-align: top;\n",
       "    }\n",
       "\n",
       "    .dataframe thead th {\n",
       "        text-align: right;\n",
       "    }\n",
       "</style>\n",
       "<table border=\"1\" class=\"dataframe\">\n",
       "  <thead>\n",
       "    <tr style=\"text-align: right;\">\n",
       "      <th></th>\n",
       "      <th>house_size</th>\n",
       "      <th>num_bedrooms</th>\n",
       "      <th>price</th>\n",
       "    </tr>\n",
       "  </thead>\n",
       "  <tbody>\n",
       "    <tr>\n",
       "      <th>0</th>\n",
       "      <td>0.131415</td>\n",
       "      <td>-0.226093</td>\n",
       "      <td>399900</td>\n",
       "    </tr>\n",
       "    <tr>\n",
       "      <th>1</th>\n",
       "      <td>-0.509641</td>\n",
       "      <td>-0.226093</td>\n",
       "      <td>329900</td>\n",
       "    </tr>\n",
       "    <tr>\n",
       "      <th>2</th>\n",
       "      <td>0.507909</td>\n",
       "      <td>-0.226093</td>\n",
       "      <td>369000</td>\n",
       "    </tr>\n",
       "    <tr>\n",
       "      <th>3</th>\n",
       "      <td>-0.743677</td>\n",
       "      <td>-1.554392</td>\n",
       "      <td>232000</td>\n",
       "    </tr>\n",
       "    <tr>\n",
       "      <th>4</th>\n",
       "      <td>1.271071</td>\n",
       "      <td>1.102205</td>\n",
       "      <td>539900</td>\n",
       "    </tr>\n",
       "  </tbody>\n",
       "</table>\n",
       "</div>"
      ],
      "text/plain": [
       "   house_size  num_bedrooms   price\n",
       "0    0.131415     -0.226093  399900\n",
       "1   -0.509641     -0.226093  329900\n",
       "2    0.507909     -0.226093  369000\n",
       "3   -0.743677     -1.554392  232000\n",
       "4    1.271071      1.102205  539900"
      ]
     },
     "execution_count": 5,
     "metadata": {},
     "output_type": "execute_result"
    }
   ],
   "source": [
    "normalize_data(houseData)\n",
    "houseData.head()"
   ]
  },
  {
   "cell_type": "code",
   "execution_count": 15,
   "id": "8286050e",
   "metadata": {},
   "outputs": [
    {
     "data": {
      "text/html": [
       "<div>\n",
       "<style scoped>\n",
       "    .dataframe tbody tr th:only-of-type {\n",
       "        vertical-align: middle;\n",
       "    }\n",
       "\n",
       "    .dataframe tbody tr th {\n",
       "        vertical-align: top;\n",
       "    }\n",
       "\n",
       "    .dataframe thead th {\n",
       "        text-align: right;\n",
       "    }\n",
       "</style>\n",
       "<table border=\"1\" class=\"dataframe\">\n",
       "  <thead>\n",
       "    <tr style=\"text-align: right;\">\n",
       "      <th></th>\n",
       "      <th>house_size</th>\n",
       "      <th>num_bedrooms</th>\n",
       "      <th>price</th>\n",
       "    </tr>\n",
       "  </thead>\n",
       "  <tbody>\n",
       "    <tr>\n",
       "      <th>0</th>\n",
       "      <td>0.131415</td>\n",
       "      <td>-0.226093</td>\n",
       "      <td>399900</td>\n",
       "    </tr>\n",
       "    <tr>\n",
       "      <th>1</th>\n",
       "      <td>-0.509641</td>\n",
       "      <td>-0.226093</td>\n",
       "      <td>329900</td>\n",
       "    </tr>\n",
       "    <tr>\n",
       "      <th>2</th>\n",
       "      <td>0.507909</td>\n",
       "      <td>-0.226093</td>\n",
       "      <td>369000</td>\n",
       "    </tr>\n",
       "    <tr>\n",
       "      <th>3</th>\n",
       "      <td>-0.743677</td>\n",
       "      <td>-1.554392</td>\n",
       "      <td>232000</td>\n",
       "    </tr>\n",
       "    <tr>\n",
       "      <th>4</th>\n",
       "      <td>1.271071</td>\n",
       "      <td>1.102205</td>\n",
       "      <td>539900</td>\n",
       "    </tr>\n",
       "  </tbody>\n",
       "</table>\n",
       "</div>"
      ],
      "text/plain": [
       "   house_size  num_bedrooms   price\n",
       "0    0.131415     -0.226093  399900\n",
       "1   -0.509641     -0.226093  329900\n",
       "2    0.507909     -0.226093  369000\n",
       "3   -0.743677     -1.554392  232000\n",
       "4    1.271071      1.102205  539900"
      ]
     },
     "execution_count": 15,
     "metadata": {},
     "output_type": "execute_result"
    }
   ],
   "source": [
    "normalize_data(houseData)\n",
    "houseData.head()"
   ]
  },
  {
   "cell_type": "code",
   "execution_count": 16,
   "id": "45ef0d2a",
   "metadata": {},
   "outputs": [
    {
     "data": {
      "text/plain": [
       "(47, 3)"
      ]
     },
     "execution_count": 16,
     "metadata": {},
     "output_type": "execute_result"
    }
   ],
   "source": [
    "houseData.shape"
   ]
  },
  {
   "cell_type": "markdown",
   "id": "671f43d0",
   "metadata": {},
   "source": [
    "### Fitting the data\n",
    "Fitting the data means we need to learn what parameters / weights when assigned to the features will allow us to predict the result as accurately as possible.<br>\n",
    "To perform the predictions we need to learn the parameters.<br>\n",
    "2 ways to do learn the appropriate parameters.<br>\n",
    "* Least Squares Method\n",
    "* Gradient Descent\n"
   ]
  },
  {
   "cell_type": "markdown",
   "id": "8ca77cbf",
   "metadata": {},
   "source": [
    "Coverting the data to a numpy array."
   ]
  },
  {
   "cell_type": "code",
   "execution_count": 17,
   "id": "c007c680",
   "metadata": {
    "collapsed": true
   },
   "outputs": [
    {
     "data": {
      "text/plain": [
       "array([[ 1.00000000e+00,  1.31415422e-01, -2.26093368e-01],\n",
       "       [ 1.00000000e+00, -5.09640698e-01, -2.26093368e-01],\n",
       "       [ 1.00000000e+00,  5.07908699e-01, -2.26093368e-01],\n",
       "       [ 1.00000000e+00, -7.43677059e-01, -1.55439190e+00],\n",
       "       [ 1.00000000e+00,  1.27107075e+00,  1.10220517e+00],\n",
       "       [ 1.00000000e+00, -1.99450507e-02,  1.10220517e+00],\n",
       "       [ 1.00000000e+00, -5.93588523e-01, -2.26093368e-01],\n",
       "       [ 1.00000000e+00, -7.29685755e-01, -2.26093368e-01],\n",
       "       [ 1.00000000e+00, -7.89466782e-01, -2.26093368e-01],\n",
       "       [ 1.00000000e+00, -6.44465993e-01, -2.26093368e-01],\n",
       "       [ 1.00000000e+00, -7.71822042e-02,  1.10220517e+00],\n",
       "       [ 1.00000000e+00, -8.65999486e-04, -2.26093368e-01],\n",
       "       [ 1.00000000e+00, -1.40779041e-01, -2.26093368e-01],\n",
       "       [ 1.00000000e+00,  3.15099326e+00,  2.43050370e+00],\n",
       "       [ 1.00000000e+00, -9.31923697e-01, -2.26093368e-01],\n",
       "       [ 1.00000000e+00,  3.80715024e-01,  1.10220517e+00],\n",
       "       [ 1.00000000e+00, -8.65782986e-01, -1.55439190e+00],\n",
       "       [ 1.00000000e+00, -9.72625673e-01, -2.26093368e-01],\n",
       "       [ 1.00000000e+00,  7.73743478e-01,  1.10220517e+00],\n",
       "       [ 1.00000000e+00,  1.31050078e+00,  1.10220517e+00],\n",
       "       [ 1.00000000e+00, -2.97227261e-01, -2.26093368e-01],\n",
       "       [ 1.00000000e+00, -1.43322915e-01, -1.55439190e+00],\n",
       "       [ 1.00000000e+00, -5.04552951e-01, -2.26093368e-01],\n",
       "       [ 1.00000000e+00, -4.91995958e-02,  1.10220517e+00],\n",
       "       [ 1.00000000e+00,  2.40309445e+00, -2.26093368e-01],\n",
       "       [ 1.00000000e+00, -1.14560907e+00, -2.26093368e-01],\n",
       "       [ 1.00000000e+00, -6.90255715e-01, -2.26093368e-01],\n",
       "       [ 1.00000000e+00,  6.68172729e-01, -2.26093368e-01],\n",
       "       [ 1.00000000e+00,  2.53521350e-01, -2.26093368e-01],\n",
       "       [ 1.00000000e+00,  8.09357707e-01, -2.26093368e-01],\n",
       "       [ 1.00000000e+00, -2.05647815e-01, -1.55439190e+00],\n",
       "       [ 1.00000000e+00, -1.27280274e+00, -2.88269044e+00],\n",
       "       [ 1.00000000e+00,  5.00114703e-02,  1.10220517e+00],\n",
       "       [ 1.00000000e+00,  1.44532608e+00, -2.26093368e-01],\n",
       "       [ 1.00000000e+00, -2.41262044e-01,  1.10220517e+00],\n",
       "       [ 1.00000000e+00, -7.16966387e-01, -2.26093368e-01],\n",
       "       [ 1.00000000e+00, -9.68809863e-01, -2.26093368e-01],\n",
       "       [ 1.00000000e+00,  1.67029651e-01,  1.10220517e+00],\n",
       "       [ 1.00000000e+00,  2.81647389e+00,  1.10220517e+00],\n",
       "       [ 1.00000000e+00,  2.05187753e-01,  1.10220517e+00],\n",
       "       [ 1.00000000e+00, -4.28236746e-01, -1.55439190e+00],\n",
       "       [ 1.00000000e+00,  3.01854946e-01, -2.26093368e-01],\n",
       "       [ 1.00000000e+00,  7.20322135e-01,  1.10220517e+00],\n",
       "       [ 1.00000000e+00, -1.01841540e+00, -2.26093368e-01],\n",
       "       [ 1.00000000e+00, -1.46104938e+00, -1.55439190e+00],\n",
       "       [ 1.00000000e+00, -1.89112638e-01,  1.10220517e+00],\n",
       "       [ 1.00000000e+00, -1.01459959e+00, -2.26093368e-01]])"
      ]
     },
     "execution_count": 17,
     "metadata": {},
     "output_type": "execute_result"
    }
   ],
   "source": [
    "houseFeaturesNp = houseData[['house_size', 'num_bedrooms']].to_numpy()\n",
    "houseFeaturesNp = np.hstack((np.ones((houseFeaturesNp.shape[0],1)), houseFeaturesNp))\n",
    "houseFeaturesNp"
   ]
  },
  {
   "cell_type": "code",
   "execution_count": 18,
   "id": "e138ed59",
   "metadata": {
    "collapsed": true
   },
   "outputs": [
    {
     "data": {
      "text/plain": [
       "array([[399900],\n",
       "       [329900],\n",
       "       [369000],\n",
       "       [232000],\n",
       "       [539900],\n",
       "       [299900],\n",
       "       [314900],\n",
       "       [198999],\n",
       "       [212000],\n",
       "       [242500],\n",
       "       [239999],\n",
       "       [347000],\n",
       "       [329999],\n",
       "       [699900],\n",
       "       [259900],\n",
       "       [449900],\n",
       "       [299900],\n",
       "       [199900],\n",
       "       [499998],\n",
       "       [599000],\n",
       "       [252900],\n",
       "       [255000],\n",
       "       [242900],\n",
       "       [259900],\n",
       "       [573900],\n",
       "       [249900],\n",
       "       [464500],\n",
       "       [469000],\n",
       "       [475000],\n",
       "       [299900],\n",
       "       [349900],\n",
       "       [169900],\n",
       "       [314900],\n",
       "       [579900],\n",
       "       [285900],\n",
       "       [249900],\n",
       "       [229900],\n",
       "       [345000],\n",
       "       [549000],\n",
       "       [287000],\n",
       "       [368500],\n",
       "       [329900],\n",
       "       [314000],\n",
       "       [299000],\n",
       "       [179900],\n",
       "       [299900],\n",
       "       [239500]], dtype=int64)"
      ]
     },
     "execution_count": 18,
     "metadata": {},
     "output_type": "execute_result"
    }
   ],
   "source": [
    "housePriceNp = houseData[['price']].to_numpy()\n",
    "housePriceNp"
   ]
  },
  {
   "cell_type": "code",
   "execution_count": 20,
   "id": "3c4311fc",
   "metadata": {},
   "outputs": [
    {
     "name": "stdout",
     "output_type": "stream",
     "text": [
      "(47, 3)\n",
      "(47, 1)\n"
     ]
    }
   ],
   "source": [
    "print(houseFeaturesNp.shape)\n",
    "print(housePriceNp.shape)"
   ]
  },
  {
   "cell_type": "markdown",
   "id": "8fd83ed6",
   "metadata": {},
   "source": [
    "### Train and Test Split\n",
    "Before training the model on the data we need to split it into training and testing parts so that we can understand the accuracy of the model after training."
   ]
  },
  {
   "cell_type": "code",
   "execution_count": 43,
   "id": "7f6e2aac",
   "metadata": {},
   "outputs": [],
   "source": [
    "houseFeaturesNpTrain, houseFeaturesNpTest = houseFeaturesNp[:33], houseFeaturesNp[33:]"
   ]
  },
  {
   "cell_type": "code",
   "execution_count": 44,
   "id": "ab14f9d0",
   "metadata": {},
   "outputs": [],
   "source": [
    "housePriceNpTrain, housePriceNpTest = housePriceNp[:33], housePriceNp[33:]"
   ]
  },
  {
   "cell_type": "markdown",
   "id": "29e120d8",
   "metadata": {},
   "source": [
    "### Fitting the data using the Least Squares Method"
   ]
  },
  {
   "cell_type": "markdown",
   "id": "12a726ea",
   "metadata": {},
   "source": [
    "The formula to be used for the Least Squares Method:-<br>\n",
    "$\\beta = (A^T A)^\\mathsf{-1}(A^T Y)$"
   ]
  },
  {
   "cell_type": "code",
   "execution_count": 46,
   "id": "e4527a18",
   "metadata": {
    "scrolled": true
   },
   "outputs": [
    {
     "name": "stdout",
     "output_type": "stream",
     "text": [
      "[[340412.65957447]\n",
      " [109447.79646964]\n",
      " [ -6578.35485416]]\n"
     ]
    }
   ],
   "source": [
    "alpha = np.dot((np.dot(np.linalg.inv(np.dot(houseFeaturesNp.T,houseFeaturesNp)),houseFeaturesNp.T)),housePriceNp)\n",
    "print(alpha)"
   ]
  },
  {
   "cell_type": "code",
   "execution_count": 45,
   "id": "7b891897",
   "metadata": {},
   "outputs": [
    {
     "name": "stdout",
     "output_type": "stream",
     "text": [
      "[[345720.17478482]\n",
      " [112662.15899596]\n",
      " [  4533.16809981]]\n"
     ]
    }
   ],
   "source": [
    "alpha = np.dot((np.dot(np.linalg.inv(np.dot(houseFeaturesNpTrain.T,houseFeaturesNpTrain)),houseFeaturesNpTrain.T)),housePriceNpTrain)\n",
    "print(alpha)"
   ]
  },
  {
   "cell_type": "markdown",
   "id": "d7b1e968",
   "metadata": {},
   "source": [
    "### Testing the results"
   ]
  },
  {
   "cell_type": "code",
   "execution_count": 48,
   "id": "28d49d4f",
   "metadata": {},
   "outputs": [],
   "source": [
    "def h(x,theta):\n",
    "    return np.matmul(x, theta)"
   ]
  },
  {
   "cell_type": "code",
   "execution_count": 47,
   "id": "9a851055",
   "metadata": {},
   "outputs": [],
   "source": [
    "def cost_function(x, y, theta):\n",
    "    return ((h(x, theta)-y).T@(h(x, theta)-y))/(2*y.shape[0])"
   ]
  },
  {
   "cell_type": "code",
   "execution_count": 52,
   "id": "357fffe9",
   "metadata": {},
   "outputs": [],
   "source": [
    "def test(theta, X):\n",
    "    for x in X:\n",
    "        x[0] = (x[0] - mu[0])/std[0]\n",
    "        x[1] = (x[1] - mu[1])/std[1]\n",
    "\n",
    "        y = theta[0]*x[0] + theta[1]*x[1]\n",
    "        print(\"Price of house \", x, \" : \" , y)"
   ]
  },
  {
   "cell_type": "code",
   "execution_count": 49,
   "id": "fa3bc2d0",
   "metadata": {},
   "outputs": [
    {
     "name": "stdout",
     "output_type": "stream",
     "text": [
      "[[1.47100938e+09]]\n"
     ]
    }
   ],
   "source": [
    "print(cost_function(houseFeaturesNpTest, housePriceNpTest, alpha))"
   ]
  },
  {
   "cell_type": "code",
   "execution_count": 53,
   "id": "cbd87d3c",
   "metadata": {
    "collapsed": true
   },
   "outputs": [
    {
     "name": "stdout",
     "output_type": "stream",
     "text": [
      "Price of house  [ 1.          1.44532608 -0.22609337]  :  [498600.41419701]\n",
      "Price of house  [ 1.         -0.24126204  1.10220517]  :  [314007.06044964]\n",
      "Price of house  [ 1.         -0.71696639 -0.22609337]  :  [261942.26836704]\n",
      "Price of house  [ 1.         -0.96880986 -0.22609337]  :  [234378.55491155]\n",
      "Price of house  [1.         0.16702965 1.10220517]  :  [358693.68680929]\n",
      "Price of house  [1.         2.81647389 1.10220517]  :  [648669.52078801]\n",
      "Price of house  [1.         0.20518775 1.10220517]  :  [362870.00702982]\n",
      "Price of house  [ 1.         -0.42823675 -1.5543919 ]  :  [293543.09136904]\n",
      "Price of house  [ 1.          0.30185495 -0.22609337]  :  [373450.01825516]\n",
      "Price of house  [1.         0.72032214 1.10220517]  :  [419250.33000696]\n",
      "Price of house  [ 1.         -1.0184154  -0.22609337]  :  [228949.33862487]\n",
      "Price of house  [ 1.         -1.46104938 -1.5543919 ]  :  [180504.02406673]\n",
      "Price of house  [ 1.         -0.18911264  1.10220517]  :  [319714.69808436]\n",
      "Price of house  [ 1.         -1.01459959 -0.22609337]  :  [229366.97064692]\n",
      "None\n"
     ]
    }
   ],
   "source": [
    "print(test(alpha, houseFeaturesNpTest))"
   ]
  },
  {
   "cell_type": "markdown",
   "id": "080b4cff",
   "metadata": {},
   "source": [
    "### Fitting the data using the Gradient Descent\n",
    "The LSM may not always be the best way to find out the parameters.\n",
    "* Matrix inversion in LSM can be very expensive operation to perform.\n",
    "* LSM only works when the number of rows are more than the number of columns.\n",
    "* For LSM the entire data needs to be in the memory of the device. But in case of GD variants (Stochaistic GD) we can have only a part of data in the memory.\n",
    "* GD has a feature of regularization with which we can prevent over-fitting. This is not the case in LSM."
   ]
  },
  {
   "cell_type": "markdown",
   "id": "4e15bae4",
   "metadata": {},
   "source": [
    "$\\large{\\theta_{j} = \\theta_{j}  - \\alpha \\frac{\\partial}{\\partial \\theta_{j}}} J(\\theta_{0}, \\theta_{1}) $<br>\n",
    "$\\text{for j = 0 and j = 1}$"
   ]
  },
  {
   "cell_type": "code",
   "execution_count": 50,
   "id": "679ab857",
   "metadata": {},
   "outputs": [],
   "source": [
    "def gradient_descent(x, y, theta, learning_rate=0.1, num_epochs=10):\n",
    "    m = x.shape[0]\n",
    "    J_all = []\n",
    "    \n",
    "    for _ in range(num_epochs):\n",
    "        h_x = h(x, theta)\n",
    "        cost_ = (1/m)*(x.T@(h_x - y))\n",
    "        theta = theta - (learning_rate)*cost_\n",
    "        J_all.append(cost_function(x, y, theta))\n",
    "\n",
    "    return theta, J_all "
   ]
  },
  {
   "cell_type": "markdown",
   "id": "44dfa15f",
   "metadata": {},
   "source": [
    "Variables:-\n",
    "* houseFeaturesNpTrain\n",
    "* housePriceNpTrain\n",
    "* houseFeaturesNpTest\n",
    "* housePriceNpTest"
   ]
  },
  {
   "cell_type": "markdown",
   "id": "17286aa9",
   "metadata": {},
   "source": [
    "### Plotting the cost of all epochs"
   ]
  },
  {
   "cell_type": "code",
   "execution_count": 64,
   "id": "403bdac6",
   "metadata": {},
   "outputs": [],
   "source": [
    "def plot_cost(J_all, num_epochs):\n",
    "    mp.xlabel('Epochs')\n",
    "    mp.ylabel('Cost')\n",
    "    mp.plot(num_epochs, J_all, 'm', linewidth = \"5\")\n",
    "    mp.title(\"Cost for all Epochs\")\n",
    "    mp.show()"
   ]
  },
  {
   "cell_type": "code",
   "execution_count": 56,
   "id": "01ccd44a",
   "metadata": {
    "scrolled": true
   },
   "outputs": [
    {
     "name": "stdout",
     "output_type": "stream",
     "text": [
      "Cost:  [[2.06727655e+09]]\n",
      "Parameters:  [[344487.56952432]\n",
      " [107519.79467296]\n",
      " [  8978.31872289]]\n"
     ]
    }
   ],
   "source": [
    "theta = np.zeros((houseFeaturesNpTrain.shape[1], 1))\n",
    "learning_rate = 0.1\n",
    "num_epochs = 50\n",
    "theta, J_all = gradient_descent(houseFeaturesNpTrain, housePriceNpTrain, theta, learning_rate, num_epochs)\n",
    "J = cost_function(houseFeaturesNpTest, housePriceNpTest, theta)\n",
    "print(\"Cost: \", J)\n",
    "print(\"Parameters: \", theta)"
   ]
  },
  {
   "cell_type": "code",
   "execution_count": 65,
   "id": "84424f57",
   "metadata": {},
   "outputs": [
    {
     "data": {
      "image/png": "[encoded data removed]",
      "text/plain": [
       "<Figure size 432x288 with 1 Axes>"
      ]
     },
     "metadata": {
      "needs_background": "light"
     },
     "output_type": "display_data"
    }
   ],
   "source": [
    "#for testing and plotting cost \n",
    "n_epochs = []\n",
    "jplot = []\n",
    "count = 0\n",
    "for i in J_all:\n",
    "    jplot.append(i[0][0])\n",
    "    n_epochs.append(count)\n",
    "    count += 1\n",
    "\n",
    "jplot = np.array(jplot)\n",
    "n_epochs = np.array(n_epochs)\n",
    "plot_cost(jplot, n_epochs)"
   ]
  }
 ],
 "metadata": {
  "kernelspec": {
   "display_name": "Python 3 (ipykernel)",
   "language": "python",
   "name": "python3"
  },
  "language_info": {
   "codemirror_mode": {
    "name": "ipython",
    "version": 3
   },
   "file_extension": ".py",
   "mimetype": "text/x-python",
   "name": "python",
   "nbconvert_exporter": "python",
   "pygments_lexer": "ipython3",
   "version": "3.10.4"
  }
 },
 "nbformat": 4,
 "nbformat_minor": 5
}
