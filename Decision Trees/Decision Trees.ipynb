{
 "cells": [
  {
   "cell_type": "code",
   "execution_count": 1,
   "id": "c3165023",
   "metadata": {},
   "outputs": [],
   "source": [
    "import pandas as pd\n",
    "from sklearn.model_selection import train_test_split"
   ]
  },
  {
   "cell_type": "markdown",
   "id": "3d1c0464",
   "metadata": {},
   "source": [
    "### BankNote Data\n",
    "* Variance of WTI (Continuous).\n",
    "* Skewness of WTI (Continuous).\n",
    "* Kurtosis of WTI (Continuous).\n",
    "* Entropy of image (Continuous).\n",
    "* Class (Integer)."
   ]
  },
  {
   "cell_type": "code",
   "execution_count": 2,
   "id": "c5a0d8ba",
   "metadata": {},
   "outputs": [
    {
     "data": {
      "text/html": [
       "<div>\n",
       "<style scoped>\n",
       "    .dataframe tbody tr th:only-of-type {\n",
       "        vertical-align: middle;\n",
       "    }\n",
       "\n",
       "    .dataframe tbody tr th {\n",
       "        vertical-align: top;\n",
       "    }\n",
       "\n",
       "    .dataframe thead th {\n",
       "        text-align: right;\n",
       "    }\n",
       "</style>\n",
       "<table border=\"1\" class=\"dataframe\">\n",
       "  <thead>\n",
       "    <tr style=\"text-align: right;\">\n",
       "      <th></th>\n",
       "      <th>Variance (WTI)</th>\n",
       "      <th>Skewness (WTI)</th>\n",
       "      <th>Kurotsis (WTI)</th>\n",
       "      <th>Entropy</th>\n",
       "      <th>Class</th>\n",
       "    </tr>\n",
       "  </thead>\n",
       "  <tbody>\n",
       "    <tr>\n",
       "      <th>0</th>\n",
       "      <td>3.62160</td>\n",
       "      <td>8.6661</td>\n",
       "      <td>-2.8073</td>\n",
       "      <td>-0.44699</td>\n",
       "      <td>0</td>\n",
       "    </tr>\n",
       "    <tr>\n",
       "      <th>1</th>\n",
       "      <td>4.54590</td>\n",
       "      <td>8.1674</td>\n",
       "      <td>-2.4586</td>\n",
       "      <td>-1.46210</td>\n",
       "      <td>0</td>\n",
       "    </tr>\n",
       "    <tr>\n",
       "      <th>2</th>\n",
       "      <td>3.86600</td>\n",
       "      <td>-2.6383</td>\n",
       "      <td>1.9242</td>\n",
       "      <td>0.10645</td>\n",
       "      <td>0</td>\n",
       "    </tr>\n",
       "    <tr>\n",
       "      <th>3</th>\n",
       "      <td>3.45660</td>\n",
       "      <td>9.5228</td>\n",
       "      <td>-4.0112</td>\n",
       "      <td>-3.59440</td>\n",
       "      <td>0</td>\n",
       "    </tr>\n",
       "    <tr>\n",
       "      <th>4</th>\n",
       "      <td>0.32924</td>\n",
       "      <td>-4.4552</td>\n",
       "      <td>4.5718</td>\n",
       "      <td>-0.98880</td>\n",
       "      <td>0</td>\n",
       "    </tr>\n",
       "  </tbody>\n",
       "</table>\n",
       "</div>"
      ],
      "text/plain": [
       "   Variance (WTI)  Skewness (WTI)  Kurotsis (WTI)  Entropy  Class\n",
       "0         3.62160          8.6661         -2.8073 -0.44699      0\n",
       "1         4.54590          8.1674         -2.4586 -1.46210      0\n",
       "2         3.86600         -2.6383          1.9242  0.10645      0\n",
       "3         3.45660          9.5228         -4.0112 -3.59440      0\n",
       "4         0.32924         -4.4552          4.5718 -0.98880      0"
      ]
     },
     "execution_count": 2,
     "metadata": {},
     "output_type": "execute_result"
    }
   ],
   "source": [
    "data = pd.read_csv('data.csv')\n",
    "data.head()"
   ]
  },
  {
   "cell_type": "code",
   "execution_count": 3,
   "id": "4a5ffd7a",
   "metadata": {},
   "outputs": [
    {
     "data": {
      "text/plain": [
       "(1372, 5)"
      ]
     },
     "execution_count": 3,
     "metadata": {},
     "output_type": "execute_result"
    }
   ],
   "source": [
    "data.shape"
   ]
  },
  {
   "cell_type": "code",
   "execution_count": 4,
   "id": "f49412c8",
   "metadata": {},
   "outputs": [
    {
     "data": {
      "text/plain": [
       "0    762\n",
       "1    610\n",
       "Name: Class, dtype: int64"
      ]
     },
     "execution_count": 4,
     "metadata": {},
     "output_type": "execute_result"
    }
   ],
   "source": [
    "data['Class'].value_counts()"
   ]
  },
  {
   "cell_type": "markdown",
   "id": "6852fbd8",
   "metadata": {},
   "source": [
    "### Gini Index\n",
    "\n",
    "$ \\large{Gain = H(S) - \\sum_{\\text{v }\\in \\text{ values}} \\frac{|S_v|}{S}} H(S_v)$\n"
   ]
  },
  {
   "cell_type": "code",
   "execution_count": 5,
   "id": "c463b02f",
   "metadata": {},
   "outputs": [],
   "source": [
    "def gini_index(groups, classes):\n",
    "    totalInstances = 0\n",
    "    giniIndex = 0.0\n",
    "     \n",
    "    for group in groups:\n",
    "        groupSize = float(len(group))\n",
    "        totalInstances += groupSize\n",
    "        \n",
    "        if groupSize <= 0:\n",
    "            continue\n",
    "        \n",
    "        score = 0.0\n",
    "        for class_val in classes:\n",
    "            p = [row[-1] for row in group].count(class_val) / groupSize\n",
    "            score += p * p\n",
    "        giniIndex += (1.0 - score) * (groupSize / totalInstances)\n",
    "        \n",
    "    return giniIndex"
   ]
  },
  {
   "cell_type": "markdown",
   "id": "60c67af7",
   "metadata": {},
   "source": [
    "### Creating a split\n",
    "\n",
    "This function creates a split in the given group.\n",
    "\n",
    "The row which has a value smaller than the given value it is put in left group else in the right group."
   ]
  },
  {
   "cell_type": "code",
   "execution_count": 6,
   "id": "af035b15",
   "metadata": {},
   "outputs": [],
   "source": [
    "def test_split(index, value, dataset):\n",
    "    left, right = list(), list()\n",
    "    \n",
    "    for row in dataset:\n",
    "        if row[index] < value:\n",
    "            left.append(row)\n",
    "        else:\n",
    "            right.append(row)\n",
    "    \n",
    "    return left, right"
   ]
  },
  {
   "cell_type": "code",
   "execution_count": 7,
   "id": "cb2b5133",
   "metadata": {},
   "outputs": [
    {
     "data": {
      "text/plain": [
       "Index(['Variance (WTI)', 'Skewness (WTI)', 'Kurotsis (WTI)', 'Entropy',\n",
       "       'Class'],\n",
       "      dtype='object')"
      ]
     },
     "execution_count": 7,
     "metadata": {},
     "output_type": "execute_result"
    }
   ],
   "source": [
    "dataColumns = data.columns\n",
    "dataColumns"
   ]
  },
  {
   "cell_type": "markdown",
   "id": "f029717e",
   "metadata": {},
   "source": [
    "### Getting best splits based on Gini Index"
   ]
  },
  {
   "cell_type": "code",
   "execution_count": 8,
   "id": "de5dcdf1",
   "metadata": {},
   "outputs": [],
   "source": [
    "def get_split(dataset):\n",
    "    class_values = list(set(row[-1] for row in dataset))\n",
    "    bestIndex, bestValue, bestScore, bestGroups = 999, 999, 999, None\n",
    "    \n",
    "    for index in range(len(dataset[0])-1):\n",
    "        for row in dataset:\n",
    "            groups = test_split(index, row[index], dataset)\n",
    "            gini = gini_index(groups, class_values)\n",
    "            \n",
    "            if gini < bestScore:\n",
    "                bestIndex, bestValue, bestScore, bestGroups = index, row[index], gini, groups\n",
    "    \n",
    "    return {'colName':dataColumns[bestIndex], 'index':bestIndex, 'value':bestValue, 'groups':bestGroups}"
   ]
  },
  {
   "cell_type": "code",
   "execution_count": 9,
   "id": "1eaa153e",
   "metadata": {},
   "outputs": [],
   "source": [
    "def set_class(group):\n",
    "    classes = [obs[-1] for obs in group]\n",
    "    return max(set(classes), key=classes.count)"
   ]
  },
  {
   "cell_type": "markdown",
   "id": "540ced9d",
   "metadata": {},
   "source": [
    "### Building the nodes"
   ]
  },
  {
   "cell_type": "code",
   "execution_count": 10,
   "id": "fa6c2538",
   "metadata": {},
   "outputs": [],
   "source": [
    "def split(node, maxDepth, minSize, currDepth):\n",
    "    left, right = node['groups']\n",
    "    del(node['groups'])\n",
    "    \n",
    "    if not left or not right:\n",
    "        node['left'] = node['right'] = set_class(left + right)\n",
    "        return\n",
    "    \n",
    "    if currDepth >= maxDepth:\n",
    "        node['left'], node['right'] = set_class(left), set_class(right)\n",
    "        return\n",
    "    \n",
    "    if len(left) <= minSize:\n",
    "        node['left'] = set_class(left)\n",
    "    else:\n",
    "        node['left'] = get_split(left)\n",
    "        split(node['left'], maxDepth, minSize, currDepth+1)\n",
    "    \n",
    "    if len(right) <= minSize:\n",
    "        node['right'] = set_class(right)\n",
    "    else:\n",
    "        node['right'] = get_split(right)\n",
    "        split(node['right'], maxDepth, minSize, currDepth+1)"
   ]
  },
  {
   "cell_type": "markdown",
   "id": "d5166167",
   "metadata": {},
   "source": [
    "### Root Node"
   ]
  },
  {
   "cell_type": "code",
   "execution_count": 11,
   "id": "72767ccc",
   "metadata": {},
   "outputs": [],
   "source": [
    "def decision_tree(train, maxDepth, minSize):\n",
    "    rootNode = get_split(train)\n",
    "    split(rootNode, maxDepth, minSize, 1)\n",
    "    return rootNode"
   ]
  },
  {
   "cell_type": "markdown",
   "id": "aa8e8f3a",
   "metadata": {},
   "source": [
    "### Printing the entire Tree"
   ]
  },
  {
   "cell_type": "code",
   "execution_count": 12,
   "id": "120bca1b",
   "metadata": {},
   "outputs": [],
   "source": [
    "def tree_verbose(currNode, currDepth=0):\n",
    "    if isinstance(currNode, dict):\n",
    "        print('%s[%s < %.3f]' % ((currDepth*2*' ', (currNode['colName']), currNode['value'])))\n",
    "        tree_verbose(currNode['left'], currDepth+1)\n",
    "        tree_verbose(currNode['right'], currDepth+1)\n",
    "    else:\n",
    "        print('%s[%s]' % ((currDepth*2*' ', currNode)))"
   ]
  },
  {
   "cell_type": "code",
   "execution_count": 13,
   "id": "19838364",
   "metadata": {},
   "outputs": [],
   "source": [
    "def predict(currNode, data):\n",
    "    if data[currNode['index']] < currNode['value']:\n",
    "        if isinstance(currNode['left'], dict):\n",
    "            return predict(currNode['left'], data)\n",
    "        else:\n",
    "            return currNode['left']\n",
    "    else:\n",
    "        if isinstance(currNode['right'], dict):\n",
    "            return predict(currNode['right'], data)\n",
    "        else:\n",
    "            return currNode['right']"
   ]
  },
  {
   "cell_type": "code",
   "execution_count": 14,
   "id": "867bbd7a",
   "metadata": {},
   "outputs": [],
   "source": [
    "def accuracy(predictions, actual):\n",
    "    acc = 0\n",
    "    size = len(predictions)\n",
    "    for i in range(size):\n",
    "        if predictions[i] == actual[i]:\n",
    "            acc += 1\n",
    "    \n",
    "    return (acc/size)*100"
   ]
  },
  {
   "cell_type": "code",
   "execution_count": 15,
   "id": "373080df",
   "metadata": {},
   "outputs": [],
   "source": [
    "X = data.drop(['Class'],axis=1)\n",
    "Y = data['Class']\n",
    "\n",
    "X_train, X_test, Y_train, Y_test = train_test_split(X, Y, test_size=0.40, random_state=42)\n",
    "X_train = pd.concat([X_train, Y_train], axis=1)"
   ]
  },
  {
   "cell_type": "markdown",
   "id": "f35fb41d",
   "metadata": {},
   "source": [
    "### Building the tree"
   ]
  },
  {
   "cell_type": "code",
   "execution_count": 16,
   "id": "9a8dd649",
   "metadata": {
    "scrolled": false
   },
   "outputs": [
    {
     "name": "stdout",
     "output_type": "stream",
     "text": [
      "[Variance (WTI) < -0.206]\n",
      "  [Skewness (WTI) < 8.188]\n",
      "    [Skewness (WTI) < -4.606]\n",
      "      [Variance (WTI) < -5.048]\n",
      "        [1.0]\n",
      "        [Variance (WTI) < -5.048]\n",
      "          [1.0]\n",
      "          [1.0]\n",
      "      [Kurotsis (WTI) < 6.220]\n",
      "        [Skewness (WTI) < 7.327]\n",
      "          [1.0]\n",
      "          [1.0]\n",
      "        [Entropy < -0.056]\n",
      "          [0.0]\n",
      "          [0.0]\n",
      "    [Variance (WTI) < -4.286]\n",
      "      [1.0]\n",
      "      [Variance (WTI) < -0.382]\n",
      "        [Variance (WTI) < -0.787]\n",
      "          [0.0]\n",
      "          [0.0]\n",
      "        [0.0]\n",
      "  [Kurotsis (WTI) < -4.786]\n",
      "    [1.0]\n",
      "    [Skewness (WTI) < -4.515]\n",
      "      [Variance (WTI) < 5.030]\n",
      "        [Variance (WTI) < 0.706]\n",
      "          [0.0]\n",
      "          [0.0]\n",
      "        [0.0]\n",
      "      [Skewness (WTI) < -4.470]\n",
      "        [1.0]\n",
      "        [Skewness (WTI) < -4.006]\n",
      "          [0.0]\n",
      "          [0.0]\n"
     ]
    }
   ],
   "source": [
    "tree = decision_tree(X_train.values, 5, 10)\n",
    "tree_verbose(tree)"
   ]
  },
  {
   "cell_type": "code",
   "execution_count": 17,
   "id": "74800847",
   "metadata": {},
   "outputs": [],
   "source": [
    "prediction = []\n",
    "for obs in X_test.values:\n",
    "    prediction.append(predict(tree, obs))"
   ]
  },
  {
   "cell_type": "code",
   "execution_count": 18,
   "id": "6c7f9495",
   "metadata": {},
   "outputs": [
    {
     "data": {
      "text/plain": [
       "90.7103825136612"
      ]
     },
     "execution_count": 18,
     "metadata": {},
     "output_type": "execute_result"
    }
   ],
   "source": [
    "accuracy(prediction, Y_test.values)"
   ]
  }
 ],
 "metadata": {
  "kernelspec": {
   "display_name": "Python 3 (ipykernel)",
   "language": "python",
   "name": "python3"
  },
  "language_info": {
   "codemirror_mode": {
    "name": "ipython",
    "version": 3
   },
   "file_extension": ".py",
   "mimetype": "text/x-python",
   "name": "python",
   "nbconvert_exporter": "python",
   "pygments_lexer": "ipython3",
   "version": "3.10.4"
  }
 },
 "nbformat": 4,
 "nbformat_minor": 5
}
